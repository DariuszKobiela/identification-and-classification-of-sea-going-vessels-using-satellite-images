{
 "cells": [
  {
   "cell_type": "code",
   "execution_count": 2,
   "id": "9cd2173e",
   "metadata": {},
   "outputs": [],
   "source": [
    "import pandas as pd\n",
    "from osgeo import gdal\n",
    "import math\n",
    "import os\n",
    "import glob\n",
    "from PIL import Image # PIL library supports only TIF format but not newer TIFF\n",
    "import numpy as np\n",
    "import shutil"
   ]
  },
  {
   "cell_type": "code",
   "execution_count": 8,
   "id": "ad49ed6b",
   "metadata": {},
   "outputs": [],
   "source": [
    "data_directory = '../data/'\n",
    "asf_data_directory = data_directory + '3_processed_ASF_data/'\n",
    "interpolated_AIS_data_directory = data_directory + '5_interpolated_AIS_data/'\n",
    "#annotated_asf_data_directory = data_directory + '6_annotated_ASF_data/'\n",
    "cutted_asf_data_directory = data_directory + '6_cutted_ASF_data/'\n",
    "final_dataset = data_directory + '7_final_dataset/'\n",
    "final_dataset_images = final_dataset + 'images/'\n",
    "final_dataset_labels = final_dataset + 'labels/'\n",
    "###\n",
    "second_final_dataset = data_directory + '8_final_dataset_second_version/'\n",
    "second_test = second_final_dataset + 'test/'\n",
    "second_train = second_final_dataset + 'train/'\n",
    "second_val = second_final_dataset + 'val/'\n",
    "#sliced_asf_data_directory = data_directory +'7_sliced_ASF_data/'\n",
    "results_directory = '../results/'"
   ]
  },
  {
   "cell_type": "markdown",
   "id": "ffff75f4",
   "metadata": {},
   "source": [
    "### 1. Create train/test split"
   ]
  },
  {
   "cell_type": "code",
   "execution_count": 4,
   "id": "9aae9865",
   "metadata": {},
   "outputs": [
    {
     "data": {
      "text/plain": [
       "['S1A_IW_GRDH_1SDV_20210204T015812_20210204T015841_036434_0446E1_2157_TC',\n",
       " 'S1B_IW_GRDH_1SDV_20210105T015737_20210105T015806_025013_02FA23_627F_TC',\n",
       " 'S1B_IW_GRDH_1SDV_20210306T015735_20210306T015804_025888_031671_7F65_TC']"
      ]
     },
     "metadata": {},
     "output_type": "display_data"
    },
    {
     "name": "stdout",
     "output_type": "stream",
     "text": [
      "total number_of_folder_pictures: 3\n",
      "\n",
      "number_of_test_folder_pictures: 1\n",
      "number_of_train_folder_pictures: 2\n",
      "\n",
      "nr_val_folder_pictures: 1\n"
     ]
    }
   ],
   "source": [
    "stopfiles = ['.gitkeep', '.ipynb_checkpoints']\n",
    "TEST_RATIO = 0.3\n",
    "VALIDATION_RATIO = 0.3\n",
    "\n",
    "pictures=list()\n",
    "for file in os.listdir(cutted_asf_data_directory):\n",
    "    if not file in stopfiles:\n",
    "        pictures.append(file)\n",
    "\n",
    "display(pictures)\n",
    "total_number_of_pictures = len(pictures)\n",
    "print(f\"total number_of_folder_pictures: {total_number_of_pictures}\")\n",
    "print()\n",
    "nr_test_pictures = round(TEST_RATIO*total_number_of_pictures)\n",
    "print(f\"number_of_test_folder_pictures: {nr_test_pictures}\")\n",
    "nr_train_pictures = total_number_of_pictures - nr_test_pictures\n",
    "print(f\"number_of_train_folder_pictures: {nr_train_pictures}\")\n",
    "print()\n",
    "nr_val_pictures = round(VALIDATION_RATIO*nr_train_pictures)\n",
    "print(f\"nr_val_folder_pictures: {nr_val_pictures}\")"
   ]
  },
  {
   "cell_type": "code",
   "execution_count": 5,
   "id": "7662f459",
   "metadata": {},
   "outputs": [
    {
     "name": "stdout",
     "output_type": "stream",
     "text": [
      "test_folders: ['S1A_IW_GRDH_1SDV_20210204T015812_20210204T015841_036434_0446E1_2157_TC']\n",
      "\n",
      "train_folders: ['S1B_IW_GRDH_1SDV_20210105T015737_20210105T015806_025013_02FA23_627F_TC', 'S1B_IW_GRDH_1SDV_20210306T015735_20210306T015804_025888_031671_7F65_TC']\n",
      "\n",
      "val_folders: ['S1B_IW_GRDH_1SDV_20210105T015737_20210105T015806_025013_02FA23_627F_TC']\n"
     ]
    }
   ],
   "source": [
    "test_folders = pictures[0:nr_test_pictures]\n",
    "print(f\"test_folders: {test_folders}\")\n",
    "print()\n",
    "train_folders = pictures[nr_test_pictures:]\n",
    "print(f\"train_folders: {train_folders}\")\n",
    "print()\n",
    "val_folders = pictures[nr_test_pictures:nr_test_pictures+nr_val_pictures]\n",
    "print(f\"val_folders: {val_folders}\")"
   ]
  },
  {
   "cell_type": "markdown",
   "id": "7398736c",
   "metadata": {},
   "source": [
    "### 2. Copy from folders only pictures which has corresponding txt file"
   ]
  },
  {
   "cell_type": "code",
   "execution_count": 6,
   "id": "be3dbe47",
   "metadata": {},
   "outputs": [],
   "source": [
    "def copy_pictures_and_labels(source_path, source_images_folders, destination_path_images, destination_path_labels):\n",
    "    source_path = source_path\n",
    "    source_images_folders = source_images_folders\n",
    "    destination_path_images = destination_path_images\n",
    "    destination_path_labels = destination_path_labels\n",
    "    print(destination_path_labels)\n",
    "\n",
    "    for folder in source_images_folders:\n",
    "        print()\n",
    "        print(folder)\n",
    "        # choose only files with txt annotations\n",
    "        print(os.listdir(source_path + folder))\n",
    "        print()\n",
    "        labels=list()\n",
    "        images=list()\n",
    "        for file in os.listdir(source_path + folder):\n",
    "            if file.endswith(\".txt\"):\n",
    "                labels.append(file)\n",
    "                image_file = file.replace(\".txt\", \".tif\")\n",
    "                images.append(image_file)\n",
    "        # copy files - rename them while copying\n",
    "        # labels\n",
    "        for file in labels:\n",
    "            src = source_path + '/' + folder + '/' + file\n",
    "            dst = destination_path_labels + folder + '_' + file\n",
    "            shutil.copy(src, dst)\n",
    "        # pictures\n",
    "        for file in images:\n",
    "            src = source_path + '/' + folder + '/' + file\n",
    "            dst = destination_path_images + folder + '_' + file\n",
    "            shutil.copy(src, dst)"
   ]
  },
  {
   "cell_type": "markdown",
   "id": "1d7b0681",
   "metadata": {},
   "source": [
    "2.1 Test pictures"
   ]
  },
  {
   "cell_type": "code",
   "execution_count": 79,
   "id": "1c11b77a",
   "metadata": {},
   "outputs": [
    {
     "name": "stdout",
     "output_type": "stream",
     "text": [
      "../data/7_final_dataset/labels/test/\n",
      "\n",
      "S1A_IW_GRDH_1SDV_20210204T015812_20210204T015841_036434_0446E1_2157_TC\n",
      "['subset1.tif', 'subset1.txt', 'subset10.tif', 'subset10.txt', 'subset11.tif', 'subset12.tif', 'subset2.tif', 'subset3.tif', 'subset3.txt', 'subset4.tif', 'subset4.txt', 'subset5.tif', 'subset5.txt', 'subset6.tif', 'subset6.txt', 'subset7.tif', 'subset8.tif', 'subset9.tif', 'subset9.txt']\n",
      "\n"
     ]
    }
   ],
   "source": [
    "copy_pictures_and_labels(source_path = cutted_asf_data_directory,\n",
    "                        source_images_folders = test_folders,\n",
    "                        destination_path_images = final_dataset_images + 'test/',\n",
    "                        destination_path_labels = final_dataset_labels + 'test/')"
   ]
  },
  {
   "cell_type": "markdown",
   "id": "a061bca0",
   "metadata": {},
   "source": [
    "2.2 Train pictures"
   ]
  },
  {
   "cell_type": "code",
   "execution_count": 80,
   "id": "55d1a6aa",
   "metadata": {},
   "outputs": [
    {
     "name": "stdout",
     "output_type": "stream",
     "text": [
      "../data/7_final_dataset/labels/train/\n",
      "\n",
      "S1B_IW_GRDH_1SDV_20210105T015737_20210105T015806_025013_02FA23_627F_TC\n",
      "['subset1.tif', 'subset1.txt', 'subset10.tif', 'subset10.txt', 'subset11.tif', 'subset12.tif', 'subset13.tif', 'subset14.tif', 'subset15.tif', 'subset16.tif', 'subset2.tif', 'subset3.tif', 'subset3.txt', 'subset4.tif', 'subset4.txt', 'subset5.tif', 'subset5.txt', 'subset6.tif', 'subset6.txt', 'subset7.tif', 'subset7.txt', 'subset8.tif', 'subset8.txt', 'subset9.tif', 'subset9.txt']\n",
      "\n",
      "\n",
      "S1B_IW_GRDH_1SDV_20210306T015735_20210306T015804_025888_031671_7F65_TC\n",
      "['subset1.tif', 'subset10.tif', 'subset10.txt', 'subset11.tif', 'subset12.tif', 'subset2.tif', 'subset2.txt', 'subset3.tif', 'subset3.txt', 'subset4.tif', 'subset5.tif', 'subset5.txt', 'subset6.tif', 'subset6.txt', 'subset7.tif', 'subset8.tif', 'subset9.tif', 'subset9.txt', '_subset9.tif']\n",
      "\n"
     ]
    }
   ],
   "source": [
    "copy_pictures_and_labels(source_path = cutted_asf_data_directory,\n",
    "                        source_images_folders = train_folders,\n",
    "                        destination_path_images = final_dataset_images + 'train/',\n",
    "                        destination_path_labels = final_dataset_labels + 'train/')"
   ]
  },
  {
   "cell_type": "markdown",
   "id": "99a6d864",
   "metadata": {},
   "source": [
    "2.3 Validation pictures"
   ]
  },
  {
   "cell_type": "code",
   "execution_count": 81,
   "id": "0430f68a",
   "metadata": {
    "scrolled": true
   },
   "outputs": [
    {
     "name": "stdout",
     "output_type": "stream",
     "text": [
      "../data/7_final_dataset/labels/val/\n",
      "\n",
      "S1B_IW_GRDH_1SDV_20210105T015737_20210105T015806_025013_02FA23_627F_TC\n",
      "['subset1.tif', 'subset1.txt', 'subset10.tif', 'subset10.txt', 'subset11.tif', 'subset12.tif', 'subset13.tif', 'subset14.tif', 'subset15.tif', 'subset16.tif', 'subset2.tif', 'subset3.tif', 'subset3.txt', 'subset4.tif', 'subset4.txt', 'subset5.tif', 'subset5.txt', 'subset6.tif', 'subset6.txt', 'subset7.tif', 'subset7.txt', 'subset8.tif', 'subset8.txt', 'subset9.tif', 'subset9.txt']\n",
      "\n"
     ]
    }
   ],
   "source": [
    "copy_pictures_and_labels(source_path = cutted_asf_data_directory,\n",
    "                        source_images_folders = val_folders,\n",
    "                        destination_path_images = final_dataset_images + 'val/',\n",
    "                        destination_path_labels = final_dataset_labels + 'val/')"
   ]
  },
  {
   "cell_type": "markdown",
   "id": "131f0c2b",
   "metadata": {},
   "source": [
    "# 3. Second version of dataset creation"
   ]
  },
  {
   "cell_type": "markdown",
   "id": "03b4c2ff",
   "metadata": {},
   "source": [
    "2.1 Test pictures"
   ]
  },
  {
   "cell_type": "code",
   "execution_count": 14,
   "id": "4d3adb27",
   "metadata": {},
   "outputs": [
    {
     "name": "stdout",
     "output_type": "stream",
     "text": [
      "../data/8_final_dataset_second_version/test/labels/\n",
      "\n",
      "S1A_IW_GRDH_1SDV_20210204T015812_20210204T015841_036434_0446E1_2157_TC\n",
      "['subset1.tif', 'subset1.txt', 'subset10.tif', 'subset10.txt', 'subset11.tif', 'subset12.tif', 'subset2.tif', 'subset3.tif', 'subset3.txt', 'subset4.tif', 'subset4.txt', 'subset5.tif', 'subset5.txt', 'subset6.tif', 'subset6.txt', 'subset7.tif', 'subset8.tif', 'subset9.tif', 'subset9.txt']\n",
      "\n"
     ]
    }
   ],
   "source": [
    "copy_pictures_and_labels(source_path = cutted_asf_data_directory,\n",
    "                        source_images_folders = test_folders,\n",
    "                        destination_path_images = second_test + 'images/',\n",
    "                        destination_path_labels = second_test + 'labels/')"
   ]
  },
  {
   "cell_type": "markdown",
   "id": "7bb6a833",
   "metadata": {},
   "source": [
    "2.2 Train pictures"
   ]
  },
  {
   "cell_type": "code",
   "execution_count": 12,
   "id": "2751c6c4",
   "metadata": {},
   "outputs": [
    {
     "name": "stdout",
     "output_type": "stream",
     "text": [
      "../data/8_final_dataset_second_version/train/labels/\n",
      "\n",
      "S1B_IW_GRDH_1SDV_20210105T015737_20210105T015806_025013_02FA23_627F_TC\n",
      "['subset1.tif', 'subset1.txt', 'subset10.tif', 'subset10.txt', 'subset11.tif', 'subset12.tif', 'subset13.tif', 'subset14.tif', 'subset15.tif', 'subset16.tif', 'subset2.tif', 'subset3.tif', 'subset3.txt', 'subset4.tif', 'subset4.txt', 'subset5.tif', 'subset5.txt', 'subset6.tif', 'subset6.txt', 'subset7.tif', 'subset7.txt', 'subset8.tif', 'subset8.txt', 'subset9.tif', 'subset9.txt']\n",
      "\n",
      "\n",
      "S1B_IW_GRDH_1SDV_20210306T015735_20210306T015804_025888_031671_7F65_TC\n",
      "['subset1.tif', 'subset10.tif', 'subset10.txt', 'subset11.tif', 'subset12.tif', 'subset2.tif', 'subset2.txt', 'subset3.tif', 'subset3.txt', 'subset4.tif', 'subset5.tif', 'subset5.txt', 'subset6.tif', 'subset6.txt', 'subset7.tif', 'subset8.tif', 'subset9.tif', 'subset9.txt', '_subset9.tif']\n",
      "\n"
     ]
    }
   ],
   "source": [
    "copy_pictures_and_labels(source_path = cutted_asf_data_directory,\n",
    "                        source_images_folders = train_folders,\n",
    "                        destination_path_images = second_train + 'images/',\n",
    "                        destination_path_labels = second_train + 'labels/')"
   ]
  },
  {
   "cell_type": "markdown",
   "id": "f6efcf97",
   "metadata": {},
   "source": [
    "2.3 Validation pictures"
   ]
  },
  {
   "cell_type": "code",
   "execution_count": 13,
   "id": "c829870f",
   "metadata": {
    "scrolled": true
   },
   "outputs": [
    {
     "name": "stdout",
     "output_type": "stream",
     "text": [
      "../data/8_final_dataset_second_version/val/labels/\n",
      "\n",
      "S1B_IW_GRDH_1SDV_20210105T015737_20210105T015806_025013_02FA23_627F_TC\n",
      "['subset1.tif', 'subset1.txt', 'subset10.tif', 'subset10.txt', 'subset11.tif', 'subset12.tif', 'subset13.tif', 'subset14.tif', 'subset15.tif', 'subset16.tif', 'subset2.tif', 'subset3.tif', 'subset3.txt', 'subset4.tif', 'subset4.txt', 'subset5.tif', 'subset5.txt', 'subset6.tif', 'subset6.txt', 'subset7.tif', 'subset7.txt', 'subset8.tif', 'subset8.txt', 'subset9.tif', 'subset9.txt']\n",
      "\n"
     ]
    }
   ],
   "source": [
    "copy_pictures_and_labels(source_path = cutted_asf_data_directory,\n",
    "                        source_images_folders = val_folders,\n",
    "                        destination_path_images = second_val + 'images/',\n",
    "                        destination_path_labels = second_val + 'labels/')"
   ]
  },
  {
   "cell_type": "markdown",
   "id": "9da9f77b",
   "metadata": {},
   "source": [
    "# OLD"
   ]
  },
  {
   "cell_type": "code",
   "execution_count": 65,
   "id": "7d6d9ce7",
   "metadata": {},
   "outputs": [
    {
     "name": "stdout",
     "output_type": "stream",
     "text": [
      "../data/7_final_dataset/labels/test/\n",
      "S1A_IW_GRDH_1SDV_20210204T015812_20210204T015841_036434_0446E1_2157_TC\n",
      "['subset1.tif', 'subset1.txt', 'subset10.tif', 'subset10.txt', 'subset11.tif', 'subset12.tif', 'subset2.tif', 'subset3.tif', 'subset3.txt', 'subset4.tif', 'subset4.txt', 'subset5.tif', 'subset5.txt', 'subset6.tif', 'subset6.txt', 'subset7.tif', 'subset8.tif', 'subset9.tif', 'subset9.txt']\n",
      "\n",
      "['subset1.txt', 'subset10.txt', 'subset3.txt', 'subset4.txt', 'subset5.txt', 'subset6.txt', 'subset9.txt']\n",
      "\n",
      "['subset1.tif', 'subset10.tif', 'subset3.tif', 'subset4.tif', 'subset5.tif', 'subset6.tif', 'subset9.tif']\n"
     ]
    }
   ],
   "source": [
    "source_path = cutted_asf_data_directory\n",
    "source_images_folders = test_folders\n",
    "destination_path_images = final_dataset_images + 'test/'\n",
    "destination_path_labels = final_dataset_labels + 'test/'\n",
    "print(destination_path_labels)\n",
    "\n",
    "for folder in source_images_folders:\n",
    "    print()\n",
    "    print(folder)\n",
    "    # choose only files with txt annotations\n",
    "    print(os.listdir(source_path + folder))\n",
    "    print()\n",
    "    labels=list()\n",
    "    images=list()\n",
    "    for file in os.listdir(source_path + folder):\n",
    "        if file.endswith(\".txt\"):\n",
    "            labels.append(file)\n",
    "            image_file = file.replace(\".txt\", \".tif\")\n",
    "            images.append(image_file)\n",
    "    # copy files - rename them while copying\n",
    "    # labels\n",
    "    for file in labels:\n",
    "        src = source_path + '/' + folder + '/' + file\n",
    "        dst = destination_path_labels + folder + file\n",
    "        shutil.copy(src, dst)\n",
    "    # pictures\n",
    "    for file in images:\n",
    "        src = source_path + '/' + folder + '/' + file\n",
    "        dst = destination_path_images + folder + file\n",
    "        shutil.copy(src, dst)\n",
    "    \n",
    "\n",
    "print(labels)\n",
    "print()\n",
    "print(images)"
   ]
  }
 ],
 "metadata": {
  "kernelspec": {
   "display_name": "Python 3 (ipykernel)",
   "language": "python",
   "name": "python3"
  },
  "language_info": {
   "codemirror_mode": {
    "name": "ipython",
    "version": 3
   },
   "file_extension": ".py",
   "mimetype": "text/x-python",
   "name": "python",
   "nbconvert_exporter": "python",
   "pygments_lexer": "ipython3",
   "version": "3.9.13"
  }
 },
 "nbformat": 4,
 "nbformat_minor": 5
}
