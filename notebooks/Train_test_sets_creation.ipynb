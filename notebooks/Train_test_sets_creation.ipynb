{
 "cells": [
  {
   "cell_type": "code",
   "execution_count": 1,
   "id": "9cd2173e",
   "metadata": {},
   "outputs": [],
   "source": [
    "import pandas as pd\n",
    "from osgeo import gdal\n",
    "import math\n",
    "import os\n",
    "import glob\n",
    "from PIL import Image # PIL library supports only TIF format but not newer TIFF\n",
    "import numpy as np\n",
    "import shutil"
   ]
  },
  {
   "cell_type": "code",
   "execution_count": 2,
   "id": "ad49ed6b",
   "metadata": {},
   "outputs": [],
   "source": [
    "data_directory = '../data/'\n",
    "asf_data_directory = data_directory + '3_processed_ASF_data/'\n",
    "interpolated_AIS_data_directory = data_directory + '5_interpolated_AIS_data/'\n",
    "#annotated_asf_data_directory = data_directory + '6_annotated_ASF_data/'\n",
    "cutted_asf_data_directory = data_directory + '6_cutted_ASF_data/'\n",
    "final_dataset = data_directory + '7_final_dataset/'\n",
    "final_dataset_images = final_dataset + 'images/'\n",
    "final_dataset_labels = final_dataset + 'labels/'\n",
    "###\n",
    "second_final_dataset = data_directory + '8_final_dataset_second_version/'\n",
    "second_test = second_final_dataset + 'test/'\n",
    "second_train = second_final_dataset + 'train/'\n",
    "second_val = second_final_dataset + 'val/'\n",
    "#sliced_asf_data_directory = data_directory +'7_sliced_ASF_data/'\n",
    "results_directory = '../results/'"
   ]
  },
  {
   "cell_type": "markdown",
   "id": "ffff75f4",
   "metadata": {},
   "source": [
    "### 1. Create train/test split"
   ]
  },
  {
   "cell_type": "code",
   "execution_count": 3,
   "id": "9aae9865",
   "metadata": {},
   "outputs": [
    {
     "data": {
      "text/plain": [
       "['S1A_IW_GRDH_1SDV_20210204T015812_20210204T015841_036434_0446E1_2157_TC',\n",
       " 'S1B_IW_GRDH_1SDV_20210105T015737_20210105T015806_025013_02FA23_627F_TC',\n",
       " 'S1B_IW_GRDH_1SDV_20210306T015735_20210306T015804_025888_031671_7F65_TC']"
      ]
     },
     "metadata": {},
     "output_type": "display_data"
    },
    {
     "name": "stdout",
     "output_type": "stream",
     "text": [
      "total number_of_folder_pictures: 3\n",
      "\n",
      "number_of_test_folder_pictures: 1\n",
      "number_of_train_folder_pictures: 2\n",
      "\n",
      "nr_val_folder_pictures: 1\n"
     ]
    }
   ],
   "source": [
    "stopfiles = ['.gitkeep', '.ipynb_checkpoints']\n",
    "TEST_RATIO = 0.3\n",
    "VALIDATION_RATIO = 0.3\n",
    "\n",
    "pictures=list()\n",
    "for file in os.listdir(cutted_asf_data_directory):\n",
    "    if not file in stopfiles:\n",
    "        pictures.append(file)\n",
    "\n",
    "display(pictures)\n",
    "total_number_of_pictures = len(pictures)\n",
    "print(f\"total number_of_folder_pictures: {total_number_of_pictures}\")\n",
    "print()\n",
    "nr_test_pictures = round(TEST_RATIO*total_number_of_pictures)\n",
    "print(f\"number_of_test_folder_pictures: {nr_test_pictures}\")\n",
    "nr_train_pictures = total_number_of_pictures - nr_test_pictures\n",
    "print(f\"number_of_train_folder_pictures: {nr_train_pictures}\")\n",
    "print()\n",
    "nr_val_pictures = round(VALIDATION_RATIO*nr_train_pictures)\n",
    "print(f\"nr_val_folder_pictures: {nr_val_pictures}\")"
   ]
  },
  {
   "cell_type": "code",
   "execution_count": 4,
   "id": "7662f459",
   "metadata": {},
   "outputs": [
    {
     "name": "stdout",
     "output_type": "stream",
     "text": [
      "test_folders: ['S1A_IW_GRDH_1SDV_20210204T015812_20210204T015841_036434_0446E1_2157_TC']\n",
      "\n",
      "train_folders: ['S1B_IW_GRDH_1SDV_20210105T015737_20210105T015806_025013_02FA23_627F_TC', 'S1B_IW_GRDH_1SDV_20210306T015735_20210306T015804_025888_031671_7F65_TC']\n",
      "\n",
      "val_folders: ['S1B_IW_GRDH_1SDV_20210105T015737_20210105T015806_025013_02FA23_627F_TC']\n"
     ]
    }
   ],
   "source": [
    "test_folders = pictures[0:nr_test_pictures]\n",
    "print(f\"test_folders: {test_folders}\")\n",
    "print()\n",
    "train_folders = pictures[nr_test_pictures:]\n",
    "print(f\"train_folders: {train_folders}\")\n",
    "print()\n",
    "val_folders = pictures[nr_test_pictures:nr_test_pictures+nr_val_pictures]\n",
    "print(f\"val_folders: {val_folders}\")"
   ]
  },
  {
   "cell_type": "markdown",
   "id": "7398736c",
   "metadata": {},
   "source": [
    "### 2. Copy from folders only pictures which has corresponding txt file"
   ]
  },
  {
   "cell_type": "code",
   "execution_count": 12,
   "id": "be3dbe47",
   "metadata": {},
   "outputs": [],
   "source": [
    "def copy_pictures_and_labels(source_path, source_images_folders, destination_path_images, destination_path_labels, destination_format):\n",
    "    source_path = source_path\n",
    "    source_images_folders = source_images_folders\n",
    "    destination_path_images = destination_path_images\n",
    "    destination_path_labels = destination_path_labels\n",
    "    destination_format = destination_format\n",
    "    print(destination_path_labels)\n",
    "\n",
    "    for folder in source_images_folders:\n",
    "        print()\n",
    "        print(folder)\n",
    "        # choose only files with txt annotations\n",
    "        print(os.listdir(source_path + folder))\n",
    "        print()\n",
    "        labels=list()\n",
    "        images=list()\n",
    "        for file in os.listdir(source_path + folder):\n",
    "            if file.endswith(\".txt\"):\n",
    "                labels.append(file)\n",
    "                image_file = file.replace(\".txt\", \".jpg\")\n",
    "                images.append(image_file)\n",
    "        # labels\n",
    "        for file in labels:\n",
    "            src = source_path + '/' + folder + '/' + file\n",
    "            dst = destination_path_labels + folder + '_' + file\n",
    "            shutil.copy(src, dst)\n",
    "        # pictures\n",
    "        for file in images:\n",
    "            src = source_path + '/' + folder + '/' + file\n",
    "            dst = destination_path_images + folder + '_' + file\n",
    "            shutil.copy(src, dst)"
   ]
  },
  {
   "cell_type": "markdown",
   "id": "c5ec3d4d-d8b0-4be6-8ee2-b435973b11b2",
   "metadata": {},
   "source": [
    "2.0 Optionally - delete the contents of the files"
   ]
  },
  {
   "cell_type": "code",
   "execution_count": 7,
   "id": "7e972fd0-31f0-4abe-a033-9ab3d177be45",
   "metadata": {},
   "outputs": [],
   "source": [
    "files = glob.glob(f'{final_dataset}*/*/*.jpg')\n",
    "for f in files:\n",
    "    os.remove(f)\n",
    "files = glob.glob(f'{final_dataset}*/*/*.tif')\n",
    "for f in files:\n",
    "    os.remove(f)\n",
    "files = glob.glob(f'{final_dataset}*/*/*.txt')\n",
    "for f in files:\n",
    "    os.remove(f)"
   ]
  },
  {
   "cell_type": "markdown",
   "id": "1d7b0681",
   "metadata": {},
   "source": [
    "2.1 Test pictures"
   ]
  },
  {
   "cell_type": "code",
   "execution_count": 8,
   "id": "1c11b77a",
   "metadata": {},
   "outputs": [
    {
     "name": "stdout",
     "output_type": "stream",
     "text": [
      "../data/7_final_dataset/labels/test/\n",
      "\n",
      "S1A_IW_GRDH_1SDV_20210204T015812_20210204T015841_036434_0446E1_2157_TC\n",
      "['subset1.jpg', 'subset1.jpg.aux.xml', 'subset10.jpg', 'subset10.jpg.aux.xml', 'subset100.jpg', 'subset100.jpg.aux.xml', 'subset101.jpg', 'subset101.jpg.aux.xml', 'subset101.txt', 'subset102.jpg', 'subset102.jpg.aux.xml', 'subset103.jpg', 'subset103.jpg.aux.xml', 'subset104.jpg', 'subset104.jpg.aux.xml', 'subset104.tif', 'subset105.jpg', 'subset105.jpg.aux.xml', 'subset106.jpg', 'subset106.jpg.aux.xml', 'subset107.jpg', 'subset107.jpg.aux.xml', 'subset108.jpg', 'subset108.jpg.aux.xml', 'subset109.jpg', 'subset109.jpg.aux.xml', 'subset11.jpg', 'subset11.jpg.aux.xml', 'subset110.jpg', 'subset110.jpg.aux.xml', 'subset111.jpg', 'subset111.jpg.aux.xml', 'subset112.jpg', 'subset112.jpg.aux.xml', 'subset113.jpg', 'subset113.jpg.aux.xml', 'subset114.jpg', 'subset114.jpg.aux.xml', 'subset114.txt', 'subset115.jpg', 'subset115.jpg.aux.xml', 'subset116.jpg', 'subset116.jpg.aux.xml', 'subset117.jpg', 'subset117.jpg.aux.xml', 'subset118.jpg', 'subset118.jpg.aux.xml', 'subset119.jpg', 'subset119.jpg.aux.xml', 'subset12.jpg', 'subset12.jpg.aux.xml', 'subset120.jpg', 'subset120.jpg.aux.xml', 'subset13.jpg', 'subset13.jpg.aux.xml', 'subset13.txt', 'subset14.jpg', 'subset14.jpg.aux.xml', 'subset15.jpg', 'subset15.jpg.aux.xml', 'subset16.jpg', 'subset16.jpg.aux.xml', 'subset17.jpg', 'subset17.jpg.aux.xml', 'subset18.jpg', 'subset18.jpg.aux.xml', 'subset19.jpg', 'subset19.jpg.aux.xml', 'subset2.jpg', 'subset2.jpg.aux.xml', 'subset20.jpg', 'subset20.jpg.aux.xml', 'subset21.jpg', 'subset21.jpg.aux.xml', 'subset22.jpg', 'subset22.jpg.aux.xml', 'subset22.txt', 'subset23.jpg', 'subset23.jpg.aux.xml', 'subset24.jpg', 'subset24.jpg.aux.xml', 'subset25.jpg', 'subset25.jpg.aux.xml', 'subset26.jpg', 'subset26.jpg.aux.xml', 'subset27.jpg', 'subset27.jpg.aux.xml', 'subset28.jpg', 'subset28.jpg.aux.xml', 'subset29.jpg', 'subset29.jpg.aux.xml', 'subset3.jpg', 'subset3.jpg.aux.xml', 'subset30.jpg', 'subset30.jpg.aux.xml', 'subset31.jpg', 'subset31.jpg.aux.xml', 'subset32.jpg', 'subset32.jpg.aux.xml', 'subset33.jpg', 'subset33.jpg.aux.xml', 'subset34.jpg', 'subset34.jpg.aux.xml', 'subset34.txt', 'subset35.jpg', 'subset35.jpg.aux.xml', 'subset36.jpg', 'subset36.jpg.aux.xml', 'subset37.jpg', 'subset37.jpg.aux.xml', 'subset37.txt', 'subset38.jpg', 'subset38.jpg.aux.xml', 'subset38.txt', 'subset39.jpg', 'subset39.jpg.aux.xml', 'subset39.txt', 'subset4.jpg', 'subset4.jpg.aux.xml', 'subset40.jpg', 'subset40.jpg.aux.xml', 'subset41.jpg', 'subset41.jpg.aux.xml', 'subset42.jpg', 'subset42.jpg.aux.xml', 'subset42.txt', 'subset43.jpg', 'subset43.jpg.aux.xml', 'subset44.jpg', 'subset44.jpg.aux.xml', 'subset45.jpg', 'subset45.jpg.aux.xml', 'subset45.txt', 'subset46.jpg', 'subset46.jpg.aux.xml', 'subset47.jpg', 'subset47.jpg.aux.xml', 'subset48.jpg', 'subset48.jpg.aux.xml', 'subset49.jpg', 'subset49.jpg.aux.xml', 'subset49.txt', 'subset5.jpg', 'subset5.jpg.aux.xml', 'subset50.jpg', 'subset50.jpg.aux.xml', 'subset50.txt', 'subset51.jpg', 'subset51.jpg.aux.xml', 'subset51.txt', 'subset52.jpg', 'subset52.jpg.aux.xml', 'subset52.txt', 'subset53.jpg', 'subset53.jpg.aux.xml', 'subset54.jpg', 'subset54.jpg.aux.xml', 'subset54.txt', 'subset55.jpg', 'subset55.jpg.aux.xml', 'subset56.jpg', 'subset56.jpg.aux.xml', 'subset57.jpg', 'subset57.jpg.aux.xml', 'subset58.jpg', 'subset58.jpg.aux.xml', 'subset59.jpg', 'subset59.jpg.aux.xml', 'subset6.jpg', 'subset6.jpg.aux.xml', 'subset60.jpg', 'subset60.jpg.aux.xml', 'subset61.jpg', 'subset61.jpg.aux.xml', 'subset62.jpg', 'subset62.jpg.aux.xml', 'subset62.txt', 'subset63.jpg', 'subset63.jpg.aux.xml', 'subset63.txt', 'subset64.jpg', 'subset64.jpg.aux.xml', 'subset64.txt', 'subset65.jpg', 'subset65.jpg.aux.xml', 'subset66.jpg', 'subset66.jpg.aux.xml', 'subset67.jpg', 'subset67.jpg.aux.xml', 'subset68.jpg', 'subset68.jpg.aux.xml', 'subset69.jpg', 'subset69.jpg.aux.xml', 'subset7.jpg', 'subset7.jpg.aux.xml', 'subset70.jpg', 'subset70.jpg.aux.xml', 'subset71.jpg', 'subset71.jpg.aux.xml', 'subset72.jpg', 'subset72.jpg.aux.xml', 'subset73.jpg', 'subset73.jpg.aux.xml', 'subset74.jpg', 'subset74.jpg.aux.xml', 'subset74.txt', 'subset75.jpg', 'subset75.jpg.aux.xml', 'subset75.txt', 'subset76.jpg', 'subset76.jpg.aux.xml', 'subset76.txt', 'subset77.jpg', 'subset77.jpg.aux.xml', 'subset78.jpg', 'subset78.jpg.aux.xml', 'subset78.txt', 'subset79.jpg', 'subset79.jpg.aux.xml', 'subset8.jpg', 'subset8.jpg.aux.xml', 'subset8.txt', 'subset80.jpg', 'subset80.jpg.aux.xml', 'subset81.jpg', 'subset81.jpg.aux.xml', 'subset82.jpg', 'subset82.jpg.aux.xml', 'subset83.jpg', 'subset83.jpg.aux.xml', 'subset84.jpg', 'subset84.jpg.aux.xml', 'subset85.jpg', 'subset85.jpg.aux.xml', 'subset86.jpg', 'subset86.jpg.aux.xml', 'subset87.jpg', 'subset87.jpg.aux.xml', 'subset87.txt', 'subset88.jpg', 'subset88.jpg.aux.xml', 'subset88.txt', 'subset89.jpg', 'subset89.jpg.aux.xml', 'subset89.txt', 'subset9.jpg', 'subset9.jpg.aux.xml', 'subset90.jpg', 'subset90.jpg.aux.xml', 'subset91.jpg', 'subset91.jpg.aux.xml', 'subset92.jpg', 'subset92.jpg.aux.xml', 'subset93.jpg', 'subset93.jpg.aux.xml', 'subset94.jpg', 'subset94.jpg.aux.xml', 'subset95.jpg', 'subset95.jpg.aux.xml', 'subset96.jpg', 'subset96.jpg.aux.xml', 'subset97.jpg', 'subset97.jpg.aux.xml', 'subset98.jpg', 'subset98.jpg.aux.xml', 'subset99.jpg', 'subset99.jpg.aux.xml']\n",
      "\n"
     ]
    },
    {
     "ename": "FileNotFoundError",
     "evalue": "[Errno 2] No such file or directory: '../data/6_cutted_ASF_data//S1A_IW_GRDH_1SDV_20210204T015812_20210204T015841_036434_0446E1_2157_TC/subset101.tif'",
     "output_type": "error",
     "traceback": [
      "\u001b[1;31m---------------------------------------------------------------------------\u001b[0m",
      "\u001b[1;31mFileNotFoundError\u001b[0m                         Traceback (most recent call last)",
      "\u001b[1;32m~\\AppData\\Local\\Temp\\ipykernel_21488\\1346069907.py\u001b[0m in \u001b[0;36m<module>\u001b[1;34m\u001b[0m\n\u001b[1;32m----> 1\u001b[1;33m copy_pictures_and_labels(source_path = cutted_asf_data_directory,\n\u001b[0m\u001b[0;32m      2\u001b[0m                         \u001b[0msource_images_folders\u001b[0m \u001b[1;33m=\u001b[0m \u001b[0mtest_folders\u001b[0m\u001b[1;33m,\u001b[0m\u001b[1;33m\u001b[0m\u001b[1;33m\u001b[0m\u001b[0m\n\u001b[0;32m      3\u001b[0m                         \u001b[0mdestination_path_images\u001b[0m \u001b[1;33m=\u001b[0m \u001b[0mfinal_dataset_images\u001b[0m \u001b[1;33m+\u001b[0m \u001b[1;34m'test/'\u001b[0m\u001b[1;33m,\u001b[0m\u001b[1;33m\u001b[0m\u001b[1;33m\u001b[0m\u001b[0m\n\u001b[0;32m      4\u001b[0m                         \u001b[0mdestination_path_labels\u001b[0m \u001b[1;33m=\u001b[0m \u001b[0mfinal_dataset_labels\u001b[0m \u001b[1;33m+\u001b[0m \u001b[1;34m'test/'\u001b[0m\u001b[1;33m,\u001b[0m\u001b[1;33m\u001b[0m\u001b[1;33m\u001b[0m\u001b[0m\n\u001b[0;32m      5\u001b[0m                         destination_format=FORMAT_TO_COPY)\n",
      "\u001b[1;32m~\\AppData\\Local\\Temp\\ipykernel_21488\\2664725638.py\u001b[0m in \u001b[0;36mcopy_pictures_and_labels\u001b[1;34m(source_path, source_images_folders, destination_path_images, destination_path_labels, destination_format)\u001b[0m\n\u001b[0;32m     29\u001b[0m             \u001b[0msrc\u001b[0m \u001b[1;33m=\u001b[0m \u001b[0msource_path\u001b[0m \u001b[1;33m+\u001b[0m \u001b[1;34m'/'\u001b[0m \u001b[1;33m+\u001b[0m \u001b[0mfolder\u001b[0m \u001b[1;33m+\u001b[0m \u001b[1;34m'/'\u001b[0m \u001b[1;33m+\u001b[0m \u001b[0mfile\u001b[0m\u001b[1;33m\u001b[0m\u001b[1;33m\u001b[0m\u001b[0m\n\u001b[0;32m     30\u001b[0m             \u001b[0mdst\u001b[0m \u001b[1;33m=\u001b[0m \u001b[0mdestination_path_images\u001b[0m \u001b[1;33m+\u001b[0m \u001b[0mfolder\u001b[0m \u001b[1;33m+\u001b[0m \u001b[1;34m'_'\u001b[0m \u001b[1;33m+\u001b[0m \u001b[0mfile\u001b[0m\u001b[1;33m\u001b[0m\u001b[1;33m\u001b[0m\u001b[0m\n\u001b[1;32m---> 31\u001b[1;33m             \u001b[0mshutil\u001b[0m\u001b[1;33m.\u001b[0m\u001b[0mcopy\u001b[0m\u001b[1;33m(\u001b[0m\u001b[0msrc\u001b[0m\u001b[1;33m,\u001b[0m \u001b[0mdst\u001b[0m\u001b[1;33m)\u001b[0m\u001b[1;33m\u001b[0m\u001b[1;33m\u001b[0m\u001b[0m\n\u001b[0m",
      "\u001b[1;32m~\\anaconda3\\lib\\shutil.py\u001b[0m in \u001b[0;36mcopy\u001b[1;34m(src, dst, follow_symlinks)\u001b[0m\n\u001b[0;32m    425\u001b[0m     \u001b[1;32mif\u001b[0m \u001b[0mos\u001b[0m\u001b[1;33m.\u001b[0m\u001b[0mpath\u001b[0m\u001b[1;33m.\u001b[0m\u001b[0misdir\u001b[0m\u001b[1;33m(\u001b[0m\u001b[0mdst\u001b[0m\u001b[1;33m)\u001b[0m\u001b[1;33m:\u001b[0m\u001b[1;33m\u001b[0m\u001b[1;33m\u001b[0m\u001b[0m\n\u001b[0;32m    426\u001b[0m         \u001b[0mdst\u001b[0m \u001b[1;33m=\u001b[0m \u001b[0mos\u001b[0m\u001b[1;33m.\u001b[0m\u001b[0mpath\u001b[0m\u001b[1;33m.\u001b[0m\u001b[0mjoin\u001b[0m\u001b[1;33m(\u001b[0m\u001b[0mdst\u001b[0m\u001b[1;33m,\u001b[0m \u001b[0mos\u001b[0m\u001b[1;33m.\u001b[0m\u001b[0mpath\u001b[0m\u001b[1;33m.\u001b[0m\u001b[0mbasename\u001b[0m\u001b[1;33m(\u001b[0m\u001b[0msrc\u001b[0m\u001b[1;33m)\u001b[0m\u001b[1;33m)\u001b[0m\u001b[1;33m\u001b[0m\u001b[1;33m\u001b[0m\u001b[0m\n\u001b[1;32m--> 427\u001b[1;33m     \u001b[0mcopyfile\u001b[0m\u001b[1;33m(\u001b[0m\u001b[0msrc\u001b[0m\u001b[1;33m,\u001b[0m \u001b[0mdst\u001b[0m\u001b[1;33m,\u001b[0m \u001b[0mfollow_symlinks\u001b[0m\u001b[1;33m=\u001b[0m\u001b[0mfollow_symlinks\u001b[0m\u001b[1;33m)\u001b[0m\u001b[1;33m\u001b[0m\u001b[1;33m\u001b[0m\u001b[0m\n\u001b[0m\u001b[0;32m    428\u001b[0m     \u001b[0mcopymode\u001b[0m\u001b[1;33m(\u001b[0m\u001b[0msrc\u001b[0m\u001b[1;33m,\u001b[0m \u001b[0mdst\u001b[0m\u001b[1;33m,\u001b[0m \u001b[0mfollow_symlinks\u001b[0m\u001b[1;33m=\u001b[0m\u001b[0mfollow_symlinks\u001b[0m\u001b[1;33m)\u001b[0m\u001b[1;33m\u001b[0m\u001b[1;33m\u001b[0m\u001b[0m\n\u001b[0;32m    429\u001b[0m     \u001b[1;32mreturn\u001b[0m \u001b[0mdst\u001b[0m\u001b[1;33m\u001b[0m\u001b[1;33m\u001b[0m\u001b[0m\n",
      "\u001b[1;32m~\\anaconda3\\lib\\shutil.py\u001b[0m in \u001b[0;36mcopyfile\u001b[1;34m(src, dst, follow_symlinks)\u001b[0m\n\u001b[0;32m    262\u001b[0m         \u001b[0mos\u001b[0m\u001b[1;33m.\u001b[0m\u001b[0msymlink\u001b[0m\u001b[1;33m(\u001b[0m\u001b[0mos\u001b[0m\u001b[1;33m.\u001b[0m\u001b[0mreadlink\u001b[0m\u001b[1;33m(\u001b[0m\u001b[0msrc\u001b[0m\u001b[1;33m)\u001b[0m\u001b[1;33m,\u001b[0m \u001b[0mdst\u001b[0m\u001b[1;33m)\u001b[0m\u001b[1;33m\u001b[0m\u001b[1;33m\u001b[0m\u001b[0m\n\u001b[0;32m    263\u001b[0m     \u001b[1;32melse\u001b[0m\u001b[1;33m:\u001b[0m\u001b[1;33m\u001b[0m\u001b[1;33m\u001b[0m\u001b[0m\n\u001b[1;32m--> 264\u001b[1;33m         \u001b[1;32mwith\u001b[0m \u001b[0mopen\u001b[0m\u001b[1;33m(\u001b[0m\u001b[0msrc\u001b[0m\u001b[1;33m,\u001b[0m \u001b[1;34m'rb'\u001b[0m\u001b[1;33m)\u001b[0m \u001b[1;32mas\u001b[0m \u001b[0mfsrc\u001b[0m\u001b[1;33m:\u001b[0m\u001b[1;33m\u001b[0m\u001b[1;33m\u001b[0m\u001b[0m\n\u001b[0m\u001b[0;32m    265\u001b[0m             \u001b[1;32mtry\u001b[0m\u001b[1;33m:\u001b[0m\u001b[1;33m\u001b[0m\u001b[1;33m\u001b[0m\u001b[0m\n\u001b[0;32m    266\u001b[0m                 \u001b[1;32mwith\u001b[0m \u001b[0mopen\u001b[0m\u001b[1;33m(\u001b[0m\u001b[0mdst\u001b[0m\u001b[1;33m,\u001b[0m \u001b[1;34m'wb'\u001b[0m\u001b[1;33m)\u001b[0m \u001b[1;32mas\u001b[0m \u001b[0mfdst\u001b[0m\u001b[1;33m:\u001b[0m\u001b[1;33m\u001b[0m\u001b[1;33m\u001b[0m\u001b[0m\n",
      "\u001b[1;31mFileNotFoundError\u001b[0m: [Errno 2] No such file or directory: '../data/6_cutted_ASF_data//S1A_IW_GRDH_1SDV_20210204T015812_20210204T015841_036434_0446E1_2157_TC/subset101.tif'"
     ]
    }
   ],
   "source": [
    "copy_pictures_and_labels(source_path = cutted_asf_data_directory,\n",
    "                        source_images_folders = test_folders,\n",
    "                        destination_path_images = final_dataset_images + 'test/',\n",
    "                        destination_path_labels = final_dataset_labels + 'test/',\n",
    "                        destination_format=FORMAT_TO_COPY)"
   ]
  },
  {
   "cell_type": "markdown",
   "id": "a061bca0",
   "metadata": {},
   "source": [
    "2.2 Train pictures"
   ]
  },
  {
   "cell_type": "code",
   "execution_count": 34,
   "id": "55d1a6aa",
   "metadata": {},
   "outputs": [
    {
     "name": "stdout",
     "output_type": "stream",
     "text": [
      "../data/7_final_dataset/labels/train/\n",
      "\n",
      "S1B_IW_GRDH_1SDV_20210105T015737_20210105T015806_025013_02FA23_627F_TC\n",
      "['subset1.tif', 'subset10.tif', 'subset100.tif', 'subset100.txt', 'subset101.tif', 'subset101.txt', 'subset102.tif', 'subset102.txt', 'subset103.tif', 'subset104.tif', 'subset105.tif', 'subset106.tif', 'subset107.tif', 'subset108.tif', 'subset109.tif', 'subset11.tif', 'subset110.tif', 'subset111.tif', 'subset112.tif', 'subset112.txt', 'subset113.tif', 'subset114.tif', 'subset114.txt', 'subset115.tif', 'subset116.tif', 'subset117.tif', 'subset118.tif', 'subset119.tif', 'subset12.tif', 'subset120.tif', 'subset121.tif', 'subset122.tif', 'subset123.tif', 'subset124.tif', 'subset125.tif', 'subset126.tif', 'subset127.tif', 'subset128.tif', 'subset129.tif', 'subset13.tif', 'subset130.tif', 'subset131.tif', 'subset132.tif', 'subset14.tif', 'subset15.tif', 'subset16.tif', 'subset17.tif', 'subset18.tif', 'subset19.tif', 'subset2.tif', 'subset20.tif', 'subset21.tif', 'subset22.tif', 'subset23.tif', 'subset24.tif', 'subset24.txt', 'subset25.tif', 'subset25.txt', 'subset26.tif', 'subset27.tif', 'subset28.tif', 'subset29.tif', 'subset3.tif', 'subset30.tif', 'subset31.tif', 'subset32.tif', 'subset33.tif', 'subset34.tif', 'subset35.tif', 'subset36.tif', 'subset37.tif', 'subset38.tif', 'subset38.txt', 'subset39.tif', 'subset4.tif', 'subset40.tif', 'subset41.tif', 'subset42.tif', 'subset43.tif', 'subset43.txt', 'subset44.tif', 'subset45.tif', 'subset46.tif', 'subset47.tif', 'subset48.tif', 'subset49.tif', 'subset5.tif', 'subset50.tif', 'subset51.tif', 'subset52.tif', 'subset53.tif', 'subset53.txt', 'subset54.tif', 'subset55.tif', 'subset56.tif', 'subset57.tif', 'subset58.tif', 'subset59.tif', 'subset59.txt', 'subset6.tif', 'subset60.tif', 'subset61.tif', 'subset62.tif', 'subset63.tif', 'subset63.txt', 'subset64.tif', 'subset64.txt', 'subset65.tif', 'subset66.tif', 'subset67.tif', 'subset68.tif', 'subset69.tif', 'subset7.tif', 'subset70.tif', 'subset71.tif', 'subset72.tif', 'subset73.tif', 'subset74.tif', 'subset75.tif', 'subset75.txt', 'subset76.tif', 'subset76.txt', 'subset77.tif', 'subset77.txt', 'subset78.tif', 'subset79.tif', 'subset8.tif', 'subset80.tif', 'subset81.tif', 'subset82.tif', 'subset83.tif', 'subset84.tif', 'subset85.tif', 'subset86.tif', 'subset87.tif', 'subset87.txt', 'subset88.tif', 'subset88.txt', 'subset89.tif', 'subset89.txt', 'subset9.tif', 'subset9.txt', 'subset90.tif', 'subset90.txt', 'subset91.tif', 'subset91.txt', 'subset92.tif', 'subset93.tif', 'subset94.tif', 'subset95.tif', 'subset96.tif', 'subset97.tif', 'subset98.tif', 'subset99.tif']\n",
      "\n",
      "\n",
      "S1B_IW_GRDH_1SDV_20210306T015735_20210306T015804_025888_031671_7F65_TC\n",
      "['subset1.tif', 'subset10.tif', 'subset11.tif', 'subset12.tif', 'subset13.tif', 'subset14.tif', 'subset15.tif', 'subset16.tif', 'subset17.tif', 'subset18.tif', 'subset19.tif', 'subset2.tif', 'subset20.tif', 'subset21.tif', 'subset22.tif', 'subset23.tif', 'subset24.tif', 'subset25.tif', 'subset26.tif', 'subset27.tif', 'subset28.tif', 'subset29.tif', 'subset3.tif', 'subset30.tif', 'subset31.tif', 'subset31.txt', 'subset32.tif', 'subset33.tif', 'subset34.tif', 'subset35.tif', 'subset35.txt', 'subset36.tif', 'subset37.tif', 'subset38.tif', 'subset39.tif', 'subset39.txt', 'subset4.tif', 'subset4.txt', 'subset40.tif', 'subset41.tif', 'subset42.tif', 'subset43.tif', 'subset43.txt', 'subset44.tif', 'subset45.tif', 'subset45.txt', 'subset46.tif', 'subset46.txt', 'subset47.tif', 'subset47.txt', 'subset48.tif', 'subset48.txt', 'subset49.tif', 'subset5.tif', 'subset50.tif', 'subset51.tif', 'subset52.tif', 'subset53.tif', 'subset54.tif', 'subset55.tif', 'subset56.tif', 'subset57.tif', 'subset57.txt', 'subset58.tif', 'subset58.txt', 'subset59.tif', 'subset59.txt', 'subset6.tif', 'subset60.tif', 'subset61.tif', 'subset62.tif', 'subset63.tif', 'subset64.tif', 'subset65.tif', 'subset66.tif', 'subset67.tif', 'subset68.tif', 'subset68.txt', 'subset69.tif', 'subset69.txt', 'subset7.tif', 'subset70.tif', 'subset70.txt', 'subset71.tif', 'subset71.txt', 'subset72.tif', 'subset73.tif', 'subset74.tif', 'subset75.tif', 'subset76.tif', 'subset77.tif', 'subset78.tif', 'subset79.tif', 'subset79.txt', 'subset8.tif', 'subset80.tif', 'subset80.txt', 'subset81.tif', 'subset81.txt', 'subset82.tif', 'subset82.txt', 'subset83.tif', 'subset84.tif', 'subset85.tif', 'subset86.tif', 'subset87.tif', 'subset88.tif', 'subset89.tif', 'subset9.tif', 'subset90.tif', 'subset90.txt', 'subset91.tif', 'subset92.tif', 'subset93.tif', 'subset94.tif', 'subset95.tif', 'subset95.txt', 'subset96.tif', 'subset97.tif', 'subset98.tif', 'subset99.tif', '_subset9.tif']\n",
      "\n"
     ]
    }
   ],
   "source": [
    "copy_pictures_and_labels(source_path = cutted_asf_data_directory,\n",
    "                        source_images_folders = train_folders,\n",
    "                        destination_path_images = final_dataset_images + 'train/',\n",
    "                        destination_path_labels = final_dataset_labels + 'train/',\n",
    "                        destination_format=FORMAT_TO_COPY)"
   ]
  },
  {
   "cell_type": "markdown",
   "id": "99a6d864",
   "metadata": {},
   "source": [
    "2.3 Validation pictures"
   ]
  },
  {
   "cell_type": "code",
   "execution_count": 35,
   "id": "0430f68a",
   "metadata": {
    "scrolled": true
   },
   "outputs": [
    {
     "name": "stdout",
     "output_type": "stream",
     "text": [
      "../data/7_final_dataset/labels/val/\n",
      "\n",
      "S1B_IW_GRDH_1SDV_20210105T015737_20210105T015806_025013_02FA23_627F_TC\n",
      "['subset1.tif', 'subset10.tif', 'subset100.tif', 'subset100.txt', 'subset101.tif', 'subset101.txt', 'subset102.tif', 'subset102.txt', 'subset103.tif', 'subset104.tif', 'subset105.tif', 'subset106.tif', 'subset107.tif', 'subset108.tif', 'subset109.tif', 'subset11.tif', 'subset110.tif', 'subset111.tif', 'subset112.tif', 'subset112.txt', 'subset113.tif', 'subset114.tif', 'subset114.txt', 'subset115.tif', 'subset116.tif', 'subset117.tif', 'subset118.tif', 'subset119.tif', 'subset12.tif', 'subset120.tif', 'subset121.tif', 'subset122.tif', 'subset123.tif', 'subset124.tif', 'subset125.tif', 'subset126.tif', 'subset127.tif', 'subset128.tif', 'subset129.tif', 'subset13.tif', 'subset130.tif', 'subset131.tif', 'subset132.tif', 'subset14.tif', 'subset15.tif', 'subset16.tif', 'subset17.tif', 'subset18.tif', 'subset19.tif', 'subset2.tif', 'subset20.tif', 'subset21.tif', 'subset22.tif', 'subset23.tif', 'subset24.tif', 'subset24.txt', 'subset25.tif', 'subset25.txt', 'subset26.tif', 'subset27.tif', 'subset28.tif', 'subset29.tif', 'subset3.tif', 'subset30.tif', 'subset31.tif', 'subset32.tif', 'subset33.tif', 'subset34.tif', 'subset35.tif', 'subset36.tif', 'subset37.tif', 'subset38.tif', 'subset38.txt', 'subset39.tif', 'subset4.tif', 'subset40.tif', 'subset41.tif', 'subset42.tif', 'subset43.tif', 'subset43.txt', 'subset44.tif', 'subset45.tif', 'subset46.tif', 'subset47.tif', 'subset48.tif', 'subset49.tif', 'subset5.tif', 'subset50.tif', 'subset51.tif', 'subset52.tif', 'subset53.tif', 'subset53.txt', 'subset54.tif', 'subset55.tif', 'subset56.tif', 'subset57.tif', 'subset58.tif', 'subset59.tif', 'subset59.txt', 'subset6.tif', 'subset60.tif', 'subset61.tif', 'subset62.tif', 'subset63.tif', 'subset63.txt', 'subset64.tif', 'subset64.txt', 'subset65.tif', 'subset66.tif', 'subset67.tif', 'subset68.tif', 'subset69.tif', 'subset7.tif', 'subset70.tif', 'subset71.tif', 'subset72.tif', 'subset73.tif', 'subset74.tif', 'subset75.tif', 'subset75.txt', 'subset76.tif', 'subset76.txt', 'subset77.tif', 'subset77.txt', 'subset78.tif', 'subset79.tif', 'subset8.tif', 'subset80.tif', 'subset81.tif', 'subset82.tif', 'subset83.tif', 'subset84.tif', 'subset85.tif', 'subset86.tif', 'subset87.tif', 'subset87.txt', 'subset88.tif', 'subset88.txt', 'subset89.tif', 'subset89.txt', 'subset9.tif', 'subset9.txt', 'subset90.tif', 'subset90.txt', 'subset91.tif', 'subset91.txt', 'subset92.tif', 'subset93.tif', 'subset94.tif', 'subset95.tif', 'subset96.tif', 'subset97.tif', 'subset98.tif', 'subset99.tif']\n",
      "\n"
     ]
    }
   ],
   "source": [
    "copy_pictures_and_labels(source_path = cutted_asf_data_directory,\n",
    "                        source_images_folders = val_folders,\n",
    "                        destination_path_images = final_dataset_images + 'val/',\n",
    "                        destination_path_labels = final_dataset_labels + 'val/',\n",
    "                        destination_format=FORMAT_TO_COPY)"
   ]
  },
  {
   "cell_type": "markdown",
   "id": "131f0c2b",
   "metadata": {},
   "source": [
    "# 3. Second version of dataset creation"
   ]
  },
  {
   "cell_type": "markdown",
   "id": "5218f5ac-0f9c-43cf-8877-1d51043d6c36",
   "metadata": {},
   "source": [
    "2.0 Optionally - delete the contents of the files"
   ]
  },
  {
   "cell_type": "code",
   "execution_count": 13,
   "id": "2329da09-2b60-42a9-b6e1-47faf43247ca",
   "metadata": {},
   "outputs": [],
   "source": [
    "files = glob.glob(f'{second_final_dataset}*/*/*.jpg')\n",
    "for f in files:\n",
    "    os.remove(f)\n",
    "files = glob.glob(f'{second_final_dataset}*/*/*.tif')\n",
    "for f in files:\n",
    "    os.remove(f)\n",
    "files = glob.glob(f'{second_final_dataset}*/*/*.txt')\n",
    "for f in files:\n",
    "    os.remove(f)"
   ]
  },
  {
   "cell_type": "markdown",
   "id": "03b4c2ff",
   "metadata": {},
   "source": [
    "2.1 Test pictures"
   ]
  },
  {
   "cell_type": "code",
   "execution_count": 14,
   "id": "4d3adb27",
   "metadata": {},
   "outputs": [
    {
     "name": "stdout",
     "output_type": "stream",
     "text": [
      "../data/8_final_dataset_second_version/test/labels/\n",
      "\n",
      "S1A_IW_GRDH_1SDV_20210204T015812_20210204T015841_036434_0446E1_2157_TC\n",
      "['subset1.jpg', 'subset10.jpg', 'subset100.jpg', 'subset101.jpg', 'subset101.txt', 'subset102.jpg', 'subset103.jpg', 'subset104.jpg', 'subset104.tif', 'subset105.jpg', 'subset106.jpg', 'subset107.jpg', 'subset108.jpg', 'subset109.jpg', 'subset11.jpg', 'subset110.jpg', 'subset111.jpg', 'subset112.jpg', 'subset113.jpg', 'subset114.jpg', 'subset114.txt', 'subset115.jpg', 'subset116.jpg', 'subset117.jpg', 'subset118.jpg', 'subset119.jpg', 'subset12.jpg', 'subset120.jpg', 'subset13.jpg', 'subset13.txt', 'subset14.jpg', 'subset15.jpg', 'subset16.jpg', 'subset17.jpg', 'subset18.jpg', 'subset19.jpg', 'subset2.jpg', 'subset20.jpg', 'subset21.jpg', 'subset22.jpg', 'subset22.txt', 'subset23.jpg', 'subset24.jpg', 'subset25.jpg', 'subset26.jpg', 'subset27.jpg', 'subset28.jpg', 'subset29.jpg', 'subset3.jpg', 'subset30.jpg', 'subset31.jpg', 'subset32.jpg', 'subset33.jpg', 'subset34.jpg', 'subset34.txt', 'subset35.jpg', 'subset36.jpg', 'subset37.jpg', 'subset37.txt', 'subset38.jpg', 'subset38.txt', 'subset39.jpg', 'subset39.txt', 'subset4.jpg', 'subset40.jpg', 'subset41.jpg', 'subset42.jpg', 'subset42.txt', 'subset43.jpg', 'subset44.jpg', 'subset45.jpg', 'subset45.txt', 'subset46.jpg', 'subset47.jpg', 'subset48.jpg', 'subset49.jpg', 'subset49.txt', 'subset5.jpg', 'subset50.jpg', 'subset50.txt', 'subset51.jpg', 'subset51.txt', 'subset52.jpg', 'subset52.txt', 'subset53.jpg', 'subset54.jpg', 'subset54.txt', 'subset55.jpg', 'subset56.jpg', 'subset57.jpg', 'subset58.jpg', 'subset59.jpg', 'subset6.jpg', 'subset60.jpg', 'subset61.jpg', 'subset62.jpg', 'subset62.txt', 'subset63.jpg', 'subset63.txt', 'subset64.jpg', 'subset64.txt', 'subset65.jpg', 'subset66.jpg', 'subset67.jpg', 'subset68.jpg', 'subset69.jpg', 'subset7.jpg', 'subset70.jpg', 'subset71.jpg', 'subset72.jpg', 'subset73.jpg', 'subset74.jpg', 'subset74.txt', 'subset75.jpg', 'subset75.txt', 'subset76.jpg', 'subset76.txt', 'subset77.jpg', 'subset78.jpg', 'subset78.txt', 'subset79.jpg', 'subset8.jpg', 'subset8.txt', 'subset80.jpg', 'subset81.jpg', 'subset82.jpg', 'subset83.jpg', 'subset84.jpg', 'subset85.jpg', 'subset86.jpg', 'subset87.jpg', 'subset87.txt', 'subset88.jpg', 'subset88.txt', 'subset89.jpg', 'subset89.txt', 'subset9.jpg', 'subset90.jpg', 'subset91.jpg', 'subset92.jpg', 'subset93.jpg', 'subset94.jpg', 'subset95.jpg', 'subset96.jpg', 'subset97.jpg', 'subset98.jpg', 'subset99.jpg']\n",
      "\n"
     ]
    }
   ],
   "source": [
    "copy_pictures_and_labels(source_path = cutted_asf_data_directory,\n",
    "                        source_images_folders = test_folders,\n",
    "                        destination_path_images = second_test + 'images/',\n",
    "                        destination_path_labels = second_test + 'labels/',\n",
    "                        destination_format=FORMAT_TO_COPY)"
   ]
  },
  {
   "cell_type": "markdown",
   "id": "7bb6a833",
   "metadata": {},
   "source": [
    "2.2 Train pictures"
   ]
  },
  {
   "cell_type": "code",
   "execution_count": 15,
   "id": "2751c6c4",
   "metadata": {},
   "outputs": [
    {
     "name": "stdout",
     "output_type": "stream",
     "text": [
      "../data/8_final_dataset_second_version/train/labels/\n",
      "\n",
      "S1B_IW_GRDH_1SDV_20210105T015737_20210105T015806_025013_02FA23_627F_TC\n",
      "['subset1.jpg', 'subset10.jpg', 'subset100.jpg', 'subset100.tif', 'subset100.txt', 'subset101.jpg', 'subset101.txt', 'subset102.jpg', 'subset102.txt', 'subset103.jpg', 'subset104.jpg', 'subset105.jpg', 'subset106.jpg', 'subset107.jpg', 'subset108.jpg', 'subset109.jpg', 'subset11.jpg', 'subset110.jpg', 'subset111.jpg', 'subset112.jpg', 'subset112.txt', 'subset113.jpg', 'subset114.jpg', 'subset114.txt', 'subset115.jpg', 'subset116.jpg', 'subset117.jpg', 'subset118.jpg', 'subset119.jpg', 'subset12.jpg', 'subset120.jpg', 'subset121.jpg', 'subset122.jpg', 'subset123.jpg', 'subset124.jpg', 'subset125.jpg', 'subset126.jpg', 'subset127.jpg', 'subset128.jpg', 'subset129.jpg', 'subset13.jpg', 'subset130.jpg', 'subset131.jpg', 'subset132.jpg', 'subset14.jpg', 'subset15.jpg', 'subset16.jpg', 'subset17.jpg', 'subset18.jpg', 'subset19.jpg', 'subset2.jpg', 'subset20.jpg', 'subset21.jpg', 'subset22.jpg', 'subset23.jpg', 'subset24.jpg', 'subset24.txt', 'subset25.jpg', 'subset25.txt', 'subset26.jpg', 'subset27.jpg', 'subset28.jpg', 'subset29.jpg', 'subset3.jpg', 'subset30.jpg', 'subset31.jpg', 'subset32.jpg', 'subset33.jpg', 'subset34.jpg', 'subset35.jpg', 'subset36.jpg', 'subset37.jpg', 'subset38.jpg', 'subset38.txt', 'subset39.jpg', 'subset4.jpg', 'subset40.jpg', 'subset41.jpg', 'subset42.jpg', 'subset43.jpg', 'subset43.txt', 'subset44.jpg', 'subset45.jpg', 'subset46.jpg', 'subset47.jpg', 'subset48.jpg', 'subset49.jpg', 'subset5.jpg', 'subset50.jpg', 'subset51.jpg', 'subset52.jpg', 'subset53.jpg', 'subset53.txt', 'subset54.jpg', 'subset55.jpg', 'subset56.jpg', 'subset57.jpg', 'subset58.jpg', 'subset59.jpg', 'subset59.txt', 'subset6.jpg', 'subset60.jpg', 'subset61.jpg', 'subset62.jpg', 'subset63.jpg', 'subset63.txt', 'subset64.jpg', 'subset64.txt', 'subset65.jpg', 'subset66.jpg', 'subset67.jpg', 'subset68.jpg', 'subset69.jpg', 'subset7.jpg', 'subset70.jpg', 'subset71.jpg', 'subset72.jpg', 'subset73.jpg', 'subset74.jpg', 'subset75.jpg', 'subset75.txt', 'subset76.jpg', 'subset76.txt', 'subset77.jpg', 'subset77.txt', 'subset78.jpg', 'subset79.jpg', 'subset8.jpg', 'subset80.jpg', 'subset81.jpg', 'subset82.jpg', 'subset83.jpg', 'subset84.jpg', 'subset85.jpg', 'subset86.jpg', 'subset87.jpg', 'subset87.txt', 'subset88.jpg', 'subset88.txt', 'subset89.jpg', 'subset89.txt', 'subset9.jpg', 'subset9.txt', 'subset90.jpg', 'subset90.txt', 'subset91.jpg', 'subset91.txt', 'subset92.jpg', 'subset93.jpg', 'subset94.jpg', 'subset95.jpg', 'subset96.jpg', 'subset97.jpg', 'subset98.jpg', 'subset99.jpg']\n",
      "\n",
      "\n",
      "S1B_IW_GRDH_1SDV_20210306T015735_20210306T015804_025888_031671_7F65_TC\n",
      "['subset1.jpg', 'subset10.jpg', 'subset11.jpg', 'subset12.jpg', 'subset13.jpg', 'subset14.jpg', 'subset15.jpg', 'subset16.jpg', 'subset17.jpg', 'subset18.jpg', 'subset19.jpg', 'subset2.jpg', 'subset20.jpg', 'subset21.jpg', 'subset22.jpg', 'subset23.jpg', 'subset24.jpg', 'subset25.jpg', 'subset26.jpg', 'subset27.jpg', 'subset28.jpg', 'subset29.jpg', 'subset3.jpg', 'subset30.jpg', 'subset31.jpg', 'subset31.txt', 'subset32.jpg', 'subset33.jpg', 'subset34.jpg', 'subset35.jpg', 'subset35.txt', 'subset36.jpg', 'subset37.jpg', 'subset38.jpg', 'subset39.jpg', 'subset39.txt', 'subset4.jpg', 'subset4.txt', 'subset40.jpg', 'subset41.jpg', 'subset42.jpg', 'subset43.jpg', 'subset43.txt', 'subset44.jpg', 'subset45.jpg', 'subset45.txt', 'subset46.jpg', 'subset46.txt', 'subset47.jpg', 'subset47.txt', 'subset48.jpg', 'subset48.txt', 'subset49.jpg', 'subset5.jpg', 'subset50.jpg', 'subset51.jpg', 'subset52.jpg', 'subset53.jpg', 'subset54.jpg', 'subset55.jpg', 'subset56.jpg', 'subset57.jpg', 'subset57.txt', 'subset58.jpg', 'subset58.txt', 'subset59.jpg', 'subset59.txt', 'subset6.jpg', 'subset60.jpg', 'subset61.jpg', 'subset62.jpg', 'subset63.jpg', 'subset64.jpg', 'subset65.jpg', 'subset66.jpg', 'subset67.jpg', 'subset68.jpg', 'subset68.txt', 'subset69.jpg', 'subset69.txt', 'subset7.jpg', 'subset70.jpg', 'subset70.txt', 'subset71.jpg', 'subset71.txt', 'subset72.jpg', 'subset73.jpg', 'subset74.jpg', 'subset75.jpg', 'subset76.jpg', 'subset77.jpg', 'subset78.jpg', 'subset79.jpg', 'subset79.txt', 'subset8.jpg', 'subset80.jpg', 'subset80.txt', 'subset81.jpg', 'subset81.txt', 'subset82.jpg', 'subset82.txt', 'subset83.jpg', 'subset84.jpg', 'subset85.jpg', 'subset86.jpg', 'subset87.jpg', 'subset88.jpg', 'subset89.jpg', 'subset9.jpg', 'subset90.jpg', 'subset90.txt', 'subset91.jpg', 'subset92.jpg', 'subset93.jpg', 'subset94.jpg', 'subset95.jpg', 'subset95.txt', 'subset96.jpg', 'subset97.jpg', 'subset98.jpg', 'subset99.jpg']\n",
      "\n"
     ]
    }
   ],
   "source": [
    "copy_pictures_and_labels(source_path = cutted_asf_data_directory,\n",
    "                        source_images_folders = train_folders,\n",
    "                        destination_path_images = second_train + 'images/',\n",
    "                        destination_path_labels = second_train + 'labels/',\n",
    "                        destination_format=FORMAT_TO_COPY)"
   ]
  },
  {
   "cell_type": "markdown",
   "id": "f6efcf97",
   "metadata": {},
   "source": [
    "2.3 Validation pictures"
   ]
  },
  {
   "cell_type": "code",
   "execution_count": 16,
   "id": "c829870f",
   "metadata": {
    "scrolled": true
   },
   "outputs": [
    {
     "name": "stdout",
     "output_type": "stream",
     "text": [
      "../data/8_final_dataset_second_version/val/labels/\n",
      "\n",
      "S1B_IW_GRDH_1SDV_20210105T015737_20210105T015806_025013_02FA23_627F_TC\n",
      "['subset1.jpg', 'subset10.jpg', 'subset100.jpg', 'subset100.tif', 'subset100.txt', 'subset101.jpg', 'subset101.txt', 'subset102.jpg', 'subset102.txt', 'subset103.jpg', 'subset104.jpg', 'subset105.jpg', 'subset106.jpg', 'subset107.jpg', 'subset108.jpg', 'subset109.jpg', 'subset11.jpg', 'subset110.jpg', 'subset111.jpg', 'subset112.jpg', 'subset112.txt', 'subset113.jpg', 'subset114.jpg', 'subset114.txt', 'subset115.jpg', 'subset116.jpg', 'subset117.jpg', 'subset118.jpg', 'subset119.jpg', 'subset12.jpg', 'subset120.jpg', 'subset121.jpg', 'subset122.jpg', 'subset123.jpg', 'subset124.jpg', 'subset125.jpg', 'subset126.jpg', 'subset127.jpg', 'subset128.jpg', 'subset129.jpg', 'subset13.jpg', 'subset130.jpg', 'subset131.jpg', 'subset132.jpg', 'subset14.jpg', 'subset15.jpg', 'subset16.jpg', 'subset17.jpg', 'subset18.jpg', 'subset19.jpg', 'subset2.jpg', 'subset20.jpg', 'subset21.jpg', 'subset22.jpg', 'subset23.jpg', 'subset24.jpg', 'subset24.txt', 'subset25.jpg', 'subset25.txt', 'subset26.jpg', 'subset27.jpg', 'subset28.jpg', 'subset29.jpg', 'subset3.jpg', 'subset30.jpg', 'subset31.jpg', 'subset32.jpg', 'subset33.jpg', 'subset34.jpg', 'subset35.jpg', 'subset36.jpg', 'subset37.jpg', 'subset38.jpg', 'subset38.txt', 'subset39.jpg', 'subset4.jpg', 'subset40.jpg', 'subset41.jpg', 'subset42.jpg', 'subset43.jpg', 'subset43.txt', 'subset44.jpg', 'subset45.jpg', 'subset46.jpg', 'subset47.jpg', 'subset48.jpg', 'subset49.jpg', 'subset5.jpg', 'subset50.jpg', 'subset51.jpg', 'subset52.jpg', 'subset53.jpg', 'subset53.txt', 'subset54.jpg', 'subset55.jpg', 'subset56.jpg', 'subset57.jpg', 'subset58.jpg', 'subset59.jpg', 'subset59.txt', 'subset6.jpg', 'subset60.jpg', 'subset61.jpg', 'subset62.jpg', 'subset63.jpg', 'subset63.txt', 'subset64.jpg', 'subset64.txt', 'subset65.jpg', 'subset66.jpg', 'subset67.jpg', 'subset68.jpg', 'subset69.jpg', 'subset7.jpg', 'subset70.jpg', 'subset71.jpg', 'subset72.jpg', 'subset73.jpg', 'subset74.jpg', 'subset75.jpg', 'subset75.txt', 'subset76.jpg', 'subset76.txt', 'subset77.jpg', 'subset77.txt', 'subset78.jpg', 'subset79.jpg', 'subset8.jpg', 'subset80.jpg', 'subset81.jpg', 'subset82.jpg', 'subset83.jpg', 'subset84.jpg', 'subset85.jpg', 'subset86.jpg', 'subset87.jpg', 'subset87.txt', 'subset88.jpg', 'subset88.txt', 'subset89.jpg', 'subset89.txt', 'subset9.jpg', 'subset9.txt', 'subset90.jpg', 'subset90.txt', 'subset91.jpg', 'subset91.txt', 'subset92.jpg', 'subset93.jpg', 'subset94.jpg', 'subset95.jpg', 'subset96.jpg', 'subset97.jpg', 'subset98.jpg', 'subset99.jpg']\n",
      "\n"
     ]
    }
   ],
   "source": [
    "copy_pictures_and_labels(source_path = cutted_asf_data_directory,\n",
    "                        source_images_folders = val_folders,\n",
    "                        destination_path_images = second_val + 'images/',\n",
    "                        destination_path_labels = second_val + 'labels/',\n",
    "                        destination_format=FORMAT_TO_COPY)"
   ]
  },
  {
   "cell_type": "markdown",
   "id": "9da9f77b",
   "metadata": {},
   "source": [
    "# OLD"
   ]
  },
  {
   "cell_type": "code",
   "execution_count": 65,
   "id": "7d6d9ce7",
   "metadata": {},
   "outputs": [
    {
     "name": "stdout",
     "output_type": "stream",
     "text": [
      "../data/7_final_dataset/labels/test/\n",
      "S1A_IW_GRDH_1SDV_20210204T015812_20210204T015841_036434_0446E1_2157_TC\n",
      "['subset1.tif', 'subset1.txt', 'subset10.tif', 'subset10.txt', 'subset11.tif', 'subset12.tif', 'subset2.tif', 'subset3.tif', 'subset3.txt', 'subset4.tif', 'subset4.txt', 'subset5.tif', 'subset5.txt', 'subset6.tif', 'subset6.txt', 'subset7.tif', 'subset8.tif', 'subset9.tif', 'subset9.txt']\n",
      "\n",
      "['subset1.txt', 'subset10.txt', 'subset3.txt', 'subset4.txt', 'subset5.txt', 'subset6.txt', 'subset9.txt']\n",
      "\n",
      "['subset1.tif', 'subset10.tif', 'subset3.tif', 'subset4.tif', 'subset5.tif', 'subset6.tif', 'subset9.tif']\n"
     ]
    }
   ],
   "source": [
    "source_path = cutted_asf_data_directory\n",
    "source_images_folders = test_folders\n",
    "destination_path_images = final_dataset_images + 'test/'\n",
    "destination_path_labels = final_dataset_labels + 'test/'\n",
    "print(destination_path_labels)\n",
    "\n",
    "for folder in source_images_folders:\n",
    "    print()\n",
    "    print(folder)\n",
    "    # choose only files with txt annotations\n",
    "    print(os.listdir(source_path + folder))\n",
    "    print()\n",
    "    labels=list()\n",
    "    images=list()\n",
    "    for file in os.listdir(source_path + folder):\n",
    "        if file.endswith(\".txt\"):\n",
    "            labels.append(file)\n",
    "            image_file = file.replace(\".txt\", \".tif\")\n",
    "            images.append(image_file)\n",
    "    # copy files - rename them while copying\n",
    "    # labels\n",
    "    for file in labels:\n",
    "        src = source_path + '/' + folder + '/' + file\n",
    "        dst = destination_path_labels + folder + file\n",
    "        shutil.copy(src, dst)\n",
    "    # pictures\n",
    "    for file in images:\n",
    "        src = source_path + '/' + folder + '/' + file\n",
    "        dst = destination_path_images + folder + file\n",
    "        shutil.copy(src, dst)\n",
    "    \n",
    "\n",
    "print(labels)\n",
    "print()\n",
    "print(images)"
   ]
  }
 ],
 "metadata": {
  "kernelspec": {
   "display_name": "Python 3 (ipykernel)",
   "language": "python",
   "name": "python3"
  },
  "language_info": {
   "codemirror_mode": {
    "name": "ipython",
    "version": 3
   },
   "file_extension": ".py",
   "mimetype": "text/x-python",
   "name": "python",
   "nbconvert_exporter": "python",
   "pygments_lexer": "ipython3",
   "version": "3.9.13"
  }
 },
 "nbformat": 4,
 "nbformat_minor": 5
}
