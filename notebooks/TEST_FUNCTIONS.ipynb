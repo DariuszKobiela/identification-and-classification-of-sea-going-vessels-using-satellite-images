{
 "cells": [
  {
   "cell_type": "code",
   "execution_count": 1,
   "id": "549eb17a",
   "metadata": {},
   "outputs": [],
   "source": [
    "import pandas as pd\n",
    "from osgeo import gdal\n",
    "import math\n",
    "import os\n",
    "import glob\n",
    "from PIL import Image # PIL library supports only TIF format but not newer TIFF\n",
    "import numpy as np\n",
    "from skimage import util, exposure"
   ]
  },
  {
   "cell_type": "code",
   "execution_count": 2,
   "id": "d30e33e4",
   "metadata": {},
   "outputs": [],
   "source": [
    "data_directory = '../data/'\n",
    "asf_data_directory = data_directory + '3_processed_ASF_data/'\n",
    "interpolated_AIS_data_directory = data_directory + '5_interpolated_AIS_data/'\n",
    "#annotated_asf_data_directory = data_directory + '6_annotated_ASF_data/'\n",
    "cutted_asf_data_directory = data_directory + '6_cutted_ASF_data/'\n",
    "#sliced_asf_data_directory = data_directory +'7_sliced_ASF_data/'\n",
    "results_directory = '../results/'"
   ]
  },
  {
   "cell_type": "code",
   "execution_count": 3,
   "id": "4d1449a2",
   "metadata": {},
   "outputs": [],
   "source": [
    "picture_path = asf_data_directory + \"TEST_SAMPLE_BEREZ.tif\""
   ]
  },
  {
   "cell_type": "code",
   "execution_count": 5,
   "id": "1b4d0e75",
   "metadata": {},
   "outputs": [],
   "source": [
    "# DONT'T WORK\n",
    "# import matplotlib.pyplot as plt\n",
    "# img = plt.imread(picture_path)\n",
    "# plt.imshow(img)\n",
    "# plt.show()"
   ]
  },
  {
   "cell_type": "code",
   "execution_count": 11,
   "id": "2e3a243d",
   "metadata": {},
   "outputs": [
    {
     "ename": "ModuleNotFoundError",
     "evalue": "No module named 'rasterio'",
     "output_type": "error",
     "traceback": [
      "\u001b[1;31m---------------------------------------------------------------------------\u001b[0m",
      "\u001b[1;31mModuleNotFoundError\u001b[0m                       Traceback (most recent call last)",
      "\u001b[1;32m~\\AppData\\Local\\Temp\\ipykernel_16480\\2005642237.py\u001b[0m in \u001b[0;36m<module>\u001b[1;34m\u001b[0m\n\u001b[1;32m----> 1\u001b[1;33m \u001b[1;32mimport\u001b[0m \u001b[0mrasterio\u001b[0m\u001b[1;33m\u001b[0m\u001b[1;33m\u001b[0m\u001b[0m\n\u001b[0m\u001b[0;32m      2\u001b[0m \u001b[1;32mfrom\u001b[0m \u001b[0mrasterio\u001b[0m\u001b[1;33m.\u001b[0m\u001b[0mplot\u001b[0m \u001b[1;32mimport\u001b[0m \u001b[0mshow\u001b[0m\u001b[1;33m\u001b[0m\u001b[1;33m\u001b[0m\u001b[0m\n\u001b[0;32m      3\u001b[0m \u001b[0mfp\u001b[0m \u001b[1;33m=\u001b[0m \u001b[0mpicture_path\u001b[0m\u001b[1;33m\u001b[0m\u001b[1;33m\u001b[0m\u001b[0m\n\u001b[0;32m      4\u001b[0m \u001b[0mimg\u001b[0m \u001b[1;33m=\u001b[0m \u001b[0mrasterio\u001b[0m\u001b[1;33m.\u001b[0m\u001b[0mopen\u001b[0m\u001b[1;33m(\u001b[0m\u001b[0mfp\u001b[0m\u001b[1;33m)\u001b[0m\u001b[1;33m\u001b[0m\u001b[1;33m\u001b[0m\u001b[0m\n\u001b[0;32m      5\u001b[0m \u001b[0mshow\u001b[0m\u001b[1;33m(\u001b[0m\u001b[0mimg\u001b[0m\u001b[1;33m)\u001b[0m\u001b[1;33m\u001b[0m\u001b[1;33m\u001b[0m\u001b[0m\n",
      "\u001b[1;31mModuleNotFoundError\u001b[0m: No module named 'rasterio'"
     ]
    }
   ],
   "source": [
    "import rasterio\n",
    "from rasterio.plot import show\n",
    "fp = picture_path\n",
    "img = rasterio.open(fp)\n",
    "show(img)"
   ]
  },
  {
   "cell_type": "code",
   "execution_count": 6,
   "id": "1c80e166",
   "metadata": {},
   "outputs": [
    {
     "data": {
      "text/plain": [
       "<osgeo.gdal.Dataset; proxy of <Swig Object of type 'GDALDatasetShadow *' at 0x000001D0421F95A0> >"
      ]
     },
     "execution_count": 6,
     "metadata": {},
     "output_type": "execute_result"
    }
   ],
   "source": [
    "in_ds = gdal.Open(picture_path)\n",
    "in_ds"
   ]
  },
  {
   "cell_type": "code",
   "execution_count": 10,
   "id": "d27eaa5e",
   "metadata": {},
   "outputs": [
    {
     "data": {
      "text/plain": [
       "1"
      ]
     },
     "execution_count": 10,
     "metadata": {},
     "output_type": "execute_result"
    }
   ],
   "source": [
    "#!/usr/bin/python2\n",
    "\n",
    "#This script takes a GeoTIFF file as input and generates a PNG file of the\n",
    "#heightmap contained and a text file which contains the latitude and longitude\n",
    "#of the corners of the image. It probably only works on UNIX-like systems.\n",
    "#The output files will have the same filename as the input with different extensions.\n",
    "\n",
    "from osgeo import osr, gdal\n",
    "import os, sys\n",
    "\n",
    "#check for correct number of arguments\n",
    "# if (len(sys.argv) != 2):\n",
    "#     print(\"Usage: ./gtiff2png.py inputFilename\")\n",
    "#     exit(0)\n",
    "\n",
    "inputfilename = picture_path\n",
    "basefilename = picture_path.split(\".\")[0]\n",
    "textoutput = open(basefilename+\".latlng\", \"w\")\n",
    "\n",
    "ds = gdal.Open(inputfilename)\n",
    "\n",
    "# get the existing coordinate system\n",
    "old_cs = osr.SpatialReference()\n",
    "old_cs.ImportFromWkt(ds.GetProjectionRef())\n",
    "\n",
    "# create the new coordinate system,\n",
    "# wgs84 AKA latitude/longitude which Google Maps requires\n",
    "wgs84_wkt = \"\"\"\n",
    "GEOGCS[\"WGS 84\",\n",
    "    DATUM[\"WGS_1984\",\n",
    "        SPHEROID[\"WGS 84\",6378137,298.257223563,\n",
    "            AUTHORITY[\"EPSG\",\"7030\"]],\n",
    "        AUTHORITY[\"EPSG\",\"6326\"]],\n",
    "    PRIMEM[\"Greenwich\",0,\n",
    "        AUTHORITY[\"EPSG\",\"8901\"]],\n",
    "    UNIT[\"degree\",0.01745329251994328,\n",
    "        AUTHORITY[\"EPSG\",\"9122\"]],\n",
    "    AUTHORITY[\"EPSG\",\"4326\"]]\"\"\"\n",
    "new_cs = osr.SpatialReference()\n",
    "new_cs .ImportFromWkt(wgs84_wkt)\n",
    "\n",
    "# create a transform object to convert between coordinate systems\n",
    "transform = osr.CoordinateTransformation(old_cs,new_cs) \n",
    "\n",
    "#get the point to transform, pixel (0,0) in this case\n",
    "width = ds.RasterXSize\n",
    "height = ds.RasterYSize\n",
    "gt = ds.GetGeoTransform()\n",
    "\n",
    "minx = gt[0]\n",
    "maxx = gt[0] + width*gt[1] + height*gt[2]\n",
    "miny = gt[3] + width*gt[4] + height*gt[5]\n",
    "maxy = gt[3]\n",
    "\n",
    "#get the coordinates in lat long\n",
    "latlong = transform.TransformPoint(minx,miny)\n",
    "latlong2 = transform.TransformPoint(maxx,maxy)\n",
    "\n",
    "#write coordinates to file\n",
    "textoutput.write(str(latlong[1]))\n",
    "textoutput.write(\"\\n\")\n",
    "textoutput.write(str(latlong[0]))\n",
    "textoutput.write(\"\\n\")\n",
    "textoutput.write(str(latlong2[1]))\n",
    "textoutput.write(\"\\n\")\n",
    "textoutput.write(str(latlong2[0]))\n",
    "textoutput.write(\"\\n\")\n",
    "\n",
    "#creates color mapping file used by the gdaldem program\n",
    "color = open(\"color\", \"w\")\n",
    "color.write(\"0% 0 0 0\\n100% 255 255 255\\n\")\n",
    "color.close()\n",
    "\n",
    "#bash commands to call gdaldem, which generates the PNG file\n",
    "os.system(\"gdaldem color-relief \" + inputfilename + \" color \"+basefilename+\".png -of png\")\n",
    "\n",
    "#delete temporary files created by gdaldem\n",
    "os.system(\"rm \" + basefilename + \".png.aux.xml\")\n",
    "os.system(\"rm color\")"
   ]
  }
 ],
 "metadata": {
  "kernelspec": {
   "display_name": "Python 3 (ipykernel)",
   "language": "python",
   "name": "python3"
  },
  "language_info": {
   "codemirror_mode": {
    "name": "ipython",
    "version": 3
   },
   "file_extension": ".py",
   "mimetype": "text/x-python",
   "name": "python",
   "nbconvert_exporter": "python",
   "pygments_lexer": "ipython3",
   "version": "3.9.13"
  }
 },
 "nbformat": 4,
 "nbformat_minor": 5
}
